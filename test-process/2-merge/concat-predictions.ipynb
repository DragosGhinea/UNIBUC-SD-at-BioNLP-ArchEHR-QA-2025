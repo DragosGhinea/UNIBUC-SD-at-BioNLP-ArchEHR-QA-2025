{
 "cells": [
  {
   "cell_type": "code",
   "execution_count": 7,
   "id": "95e02602",
   "metadata": {},
   "outputs": [],
   "source": [
    "import json\n",
    "\n",
    "def get_predictions(file):\n",
    "    with open(file, 'r', encoding='utf-8') as f:\n",
    "        data = json.load(f)\n",
    "    \n",
    "    return data"
   ]
  },
  {
   "cell_type": "code",
   "execution_count": 8,
   "id": "337e374a",
   "metadata": {},
   "outputs": [],
   "source": [
    "def concat_predictions(files):\n",
    "    loaded_dicts = []\n",
    "    for file in files[1:]:\n",
    "        loaded_dicts.append(get_predictions(file))\n",
    "    \n",
    "    to_return = get_predictions(files[0])\n",
    "    for case_id, case in to_return.items():\n",
    "        for sentence_id, sentence in case.items():\n",
    "            prediction = [sentence[\"prediction\"]]\n",
    "            for loaded_dict in loaded_dicts:\n",
    "                prediction.append(loaded_dict[case_id][sentence_id][\"prediction\"])\n",
    "            sentence[\"prediction\"] = prediction\n",
    "            del sentence[\"raw_prediction\"]\n",
    "    \n",
    "    return to_return\n"
   ]
  },
  {
   "cell_type": "code",
   "execution_count": null,
   "id": "e281b369",
   "metadata": {},
   "outputs": [],
   "source": [
    "files = [\n",
    "    \"../predictions-gemma-promptA.json\",\n",
    "    \"../predictions-mistral-promptA.json\",\n",
    "    \"../predictions-mistral-promptB.json\",\n",
    "]\n",
    "\n",
    "data = concat_predictions(files)\n",
    "\n",
    "with open(\"concat_predictions.json\", \"w\", encoding=\"utf-8\") as f:\n",
    "    json.dump(data, f, indent=4, ensure_ascii=False)"
   ]
  }
 ],
 "metadata": {
  "kernelspec": {
   "display_name": "nlp",
   "language": "python",
   "name": "python3"
  },
  "language_info": {
   "codemirror_mode": {
    "name": "ipython",
    "version": 3
   },
   "file_extension": ".py",
   "mimetype": "text/x-python",
   "name": "python",
   "nbconvert_exporter": "python",
   "pygments_lexer": "ipython3",
   "version": "3.10.16"
  }
 },
 "nbformat": 4,
 "nbformat_minor": 5
}
