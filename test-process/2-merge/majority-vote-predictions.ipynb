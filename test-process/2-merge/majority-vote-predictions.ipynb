{
 "cells": [
  {
   "cell_type": "code",
   "execution_count": 2,
   "id": "fd81adb4",
   "metadata": {},
   "outputs": [],
   "source": [
    "import json\n",
    "import numpy as np\n",
    "\n",
    "with open(\"concat_predictions.json\", \"r\", encoding=\"utf-8\") as f:\n",
    "    data = json.load(f)\n",
    "\n",
    "for case in data.values():\n",
    "    for sentence in case.values():\n",
    "        prediction = sentence[\"prediction\"]\n",
    "\n",
    "        prediction = [x for x in prediction if x != -1]\n",
    "\n",
    "        counts = np.bincount(np.array(prediction))\n",
    "        most_common = np.argmax(counts)\n",
    "\n",
    "        sentence[\"prediction\"] = int(most_common)\n",
    "\n",
    "with open(\"merged_predictions.json\", \"w\", encoding=\"utf-8\") as f:\n",
    "    json.dump(data, f, ensure_ascii=False, indent=4)"
   ]
  }
 ],
 "metadata": {
  "kernelspec": {
   "display_name": "nlp",
   "language": "python",
   "name": "python3"
  },
  "language_info": {
   "codemirror_mode": {
    "name": "ipython",
    "version": 3
   },
   "file_extension": ".py",
   "mimetype": "text/x-python",
   "name": "python",
   "nbconvert_exporter": "python",
   "pygments_lexer": "ipython3",
   "version": "3.10.16"
  }
 },
 "nbformat": 4,
 "nbformat_minor": 5
}
