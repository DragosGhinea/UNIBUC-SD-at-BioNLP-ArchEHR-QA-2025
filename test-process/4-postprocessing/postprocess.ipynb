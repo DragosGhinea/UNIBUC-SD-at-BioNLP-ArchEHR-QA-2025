{
 "cells": [
  {
   "cell_type": "code",
   "execution_count": null,
   "id": "c30015cd",
   "metadata": {},
   "outputs": [],
   "source": [
    "import json\n",
    "import re\n",
    "\n",
    "with open(\"../3-summarization/submission.json\", \"r\", encoding=\"utf-8\") as f:\n",
    "    submission = json.load(f)"
   ]
  },
  {
   "cell_type": "code",
   "execution_count": 59,
   "id": "04ba7cb7",
   "metadata": {},
   "outputs": [],
   "source": [
    "def remove_patient_question_citation(text):\n",
    "    text = re.sub(r'\\|patient question\\|\\s*', '', text, flags=re.IGNORECASE)\n",
    "\n",
    "    return text"
   ]
  },
  {
   "cell_type": "code",
   "execution_count": 60,
   "id": "943e006c",
   "metadata": {},
   "outputs": [],
   "source": [
    "import re\n",
    "\n",
    "def insert_newline_before_uppercase(text):\n",
    "    pattern = r'(?<=\\.)\\s+(?=[A-Z])'\n",
    "    new_text = re.sub(pattern, ' ||\\n', text)\n",
    "\n",
    "    return new_text"
   ]
  },
  {
   "cell_type": "code",
   "execution_count": null,
   "id": "514fed8d",
   "metadata": {},
   "outputs": [],
   "source": [
    "for case in submission:\n",
    "    answer = case[\"answer\"]\n",
    "\n",
    "    # TO BE NOTED: More postprocessing is done right after the model output in the previous summarization step.\n",
    "    new_answer = remove_patient_question_citation(answer)\n",
    "    new_answer = insert_newline_before_uppercase(new_answer)\n",
    "    if answer != new_answer:\n",
    "        print(case[\"answer\"])\n",
    "        print(\"======\")\n",
    "        print(new_answer)\n",
    "        print(\"-\"*20)\n",
    "\n",
    "    case[\"answer\"] = new_answer"
   ]
  },
  {
   "cell_type": "code",
   "execution_count": 63,
   "id": "1fc34fb5",
   "metadata": {},
   "outputs": [],
   "source": [
    "with open(\"submission.json\", \"w\", encoding=\"utf-8\") as f:\n",
    "    json.dump(submission, f, indent=4, ensure_ascii=False)"
   ]
  }
 ],
 "metadata": {
  "kernelspec": {
   "display_name": "nlp",
   "language": "python",
   "name": "python3"
  },
  "language_info": {
   "codemirror_mode": {
    "name": "ipython",
    "version": 3
   },
   "file_extension": ".py",
   "mimetype": "text/x-python",
   "name": "python",
   "nbconvert_exporter": "python",
   "pygments_lexer": "ipython3",
   "version": "3.10.16"
  }
 },
 "nbformat": 4,
 "nbformat_minor": 5
}
