{
 "cells": [
  {
   "cell_type": "code",
   "execution_count": 6,
   "id": "ce5cdc4f",
   "metadata": {},
   "outputs": [],
   "source": [
    "import xmltodict\n",
    "import json\n",
    "\n",
    "with open(\"../../dataset/archehr-qa-bionlp-task-2025/1.2/test/archehr-qa.xml\", 'r', encoding='utf-8') as file:\n",
    "    xml_content = file.read()\n",
    "\n",
    "data_dict = xmltodict.parse(xml_content)"
   ]
  },
  {
   "cell_type": "code",
   "execution_count": null,
   "id": "2be09b62",
   "metadata": {},
   "outputs": [],
   "source": [
    "cases = {}\n",
    "for case in data_dict[\"annotations\"][\"case\"]:\n",
    "    case_id = case[\"@id\"]\n",
    "    patient_narrative = case[\"patient_narrative\"]\n",
    "    clinical_question = case[\"clinician_question\"]\n",
    "    note_excerpt = case[\"note_excerpt\"]\n",
    "    sentences_list = case[\"note_excerpt_sentences\"]\n",
    "    sentences = []\n",
    "    for sentence in sentences_list[\"sentence\"]:\n",
    "        sentences.append((sentence[\"@id\"], sentence[\"#text\"]))\n",
    "    sentences.sort(key=lambda x: int(x[0]))\n",
    "    sentences = [sentence[1] for sentence in sentences]\n",
    "    \n",
    "    cases[case_id] = {\n",
    "        \"patient_narrative\": patient_narrative,\n",
    "        \"clinical_question\": clinical_question,\n",
    "        \"note_excerpt\": note_excerpt,\n",
    "        \"note_excerpt_sentences\": sentences,\n",
    "    }\n"
   ]
  },
  {
   "cell_type": "code",
   "execution_count": 9,
   "id": "26fc99d0",
   "metadata": {},
   "outputs": [],
   "source": [
    "with open(\"../v1_test.json\", 'w', encoding='utf-8') as file:\n",
    "    json.dump(cases, file, ensure_ascii=False, indent=4)"
   ]
  }
 ],
 "metadata": {
  "kernelspec": {
   "display_name": "nlp",
   "language": "python",
   "name": "python3"
  },
  "language_info": {
   "codemirror_mode": {
    "name": "ipython",
    "version": 3
   },
   "file_extension": ".py",
   "mimetype": "text/x-python",
   "name": "python",
   "nbconvert_exporter": "python",
   "pygments_lexer": "ipython3",
   "version": "3.10.16"
  }
 },
 "nbformat": 4,
 "nbformat_minor": 5
}
